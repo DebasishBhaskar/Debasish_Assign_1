{
 "cells": [
  {
   "cell_type": "code",
   "execution_count": 1,
   "metadata": {},
   "outputs": [
    {
     "name": "stdout",
     "output_type": "stream",
     "text": [
      "[[[2 1 2 3 3]\n",
      "  [2 0 1 1 1]\n",
      "  [1 0 1 0 3]\n",
      "  [0 3 1 2 3]]\n",
      "\n",
      " [[3 0 2 3 0]\n",
      "  [1 3 1 3 3]\n",
      "  [2 3 0 1 1]\n",
      "  [1 3 0 3 2]]\n",
      "\n",
      " [[0 3 3 2 3]\n",
      "  [2 3 0 2 0]\n",
      "  [0 0 1 1 2]\n",
      "  [0 0 1 3 0]]]\n"
     ]
    }
   ],
   "source": [
    "# Task-1 : 1\n",
    "\n",
    "# Step 1: If the system is 64 bit download the file using the below link.\n",
    "# Link: https://drive.google.com/file/d/0Bxr27gVaXO5sNXVpUXVvRm1iU1k/view?usp=sharing\n",
    "# Skip the step 2 and 3 if your system is 64 bit\n",
    "# Step 2: Click on the below link to go to the anaconda installer\n",
    "# https://www.anaconda.com/download/#download\n",
    "# Step 3: On clicking the above link below screen pops up,select the python 3.6 option and click\n",
    "# on download.\n",
    "\n",
    "import numpy as np\n",
    "np.random.seed(0)\n",
    "x1 = np.random.randint(4,size = 6)\n",
    "#print(x1)\n",
    "x2 = np.random.randint(4,size = (3,4))\n",
    "#print(x2)\n",
    "x3 = np.random.randint(4,size = (3,4,5))\n",
    "print(x3)"
   ]
  },
  {
   "cell_type": "code",
   "execution_count": 2,
   "metadata": {},
   "outputs": [
    {
     "name": "stdout",
     "output_type": "stream",
     "text": [
      "The nos. are  [2002, 2009, 2016, 2023, 2037, 2044, 2051, 2058, 2072, 2079, 2086, 2093, 2107, 2114, 2121, 2128, 2142, 2149, 2156, 2163, 2177, 2184, 2191, 2198, 2212, 2219, 2226, 2233, 2247, 2254, 2261, 2268, 2282, 2289, 2296, 2303, 2317, 2324, 2331, 2338, 2352, 2359, 2366, 2373, 2387, 2394, 2401, 2408, 2422, 2429, 2436, 2443, 2457, 2464, 2471, 2478, 2492, 2499, 2506, 2513, 2527, 2534, 2541, 2548, 2562, 2569, 2576, 2583, 2597, 2604, 2611, 2618, 2632, 2639, 2646, 2653, 2667, 2674, 2681, 2688, 2702, 2709, 2716, 2723, 2737, 2744, 2751, 2758, 2772, 2779, 2786, 2793, 2807, 2814, 2821, 2828, 2842, 2849, 2856, 2863, 2877, 2884, 2891, 2898, 2912, 2919, 2926, 2933, 2947, 2954, 2961, 2968, 2982, 2989, 2996, 3003, 3017, 3024, 3031, 3038, 3052, 3059, 3066, 3073, 3087, 3094, 3101, 3108, 3122, 3129, 3136, 3143, 3157, 3164, 3171, 3178, 3192, 3199]\n",
      "The total nos. are  138\n"
     ]
    }
   ],
   "source": [
    "# Task-1 : 2\n",
    "\n",
    "# Write a program which will find all such numbers which are divisible by 7 but are not a multiple\n",
    "# of 5, between 2000 and 3200 (both included). The numbers obtained should be printed in a\n",
    "# comma-separated sequence on a single line.\n",
    "\n",
    "lower = 2000\n",
    "upper = 3200\n",
    "r = range(lower,upper+1)\n",
    "L = list(r)\n",
    "\n",
    "res = 0*L\n",
    "indiv = 0*L\n",
    "\n",
    "#Index = list(range(0,len(L)))\n",
    "for val in L:\n",
    "    remainder7 = val % 7\n",
    "    remainder5 = val % 5\n",
    "    #print(remainder[val])\n",
    "    if(remainder7==0 and remainder5!=0):\n",
    "        res.append(val)\n",
    "        #print(list(res))\n",
    "        #print(res[val])        \n",
    "    else:\n",
    "        indiv.append(val)\n",
    "print(\"The nos. are \",list(res))  \n",
    "print(\"The total nos. are \",len(res))"
   ]
  },
  {
   "cell_type": "code",
   "execution_count": 3,
   "metadata": {},
   "outputs": [
    {
     "name": "stdout",
     "output_type": "stream",
     "text": [
      "Please type your First Name: Debasish\n",
      "Please type your Last Name: Bhaskar\n",
      "Your Name in reverse order : Bhaskar Debasish\n"
     ]
    }
   ],
   "source": [
    "# Task-1 : 3\n",
    "\n",
    "# Write a Python program to accept the user's first and last name and then getting them printed in\n",
    "# the the reverse order with a space between first name and last name.\n",
    "\n",
    "FirstName = input(\"Please type your First Name: \")\n",
    "LastName = input(\"Please type your Last Name: \")\n",
    "Name = []\n",
    "Name.append(FirstName)\n",
    "Name.append(' ')\n",
    "Name.append(LastName)\n",
    "Nm = Name\n",
    "\n",
    "Nm.reverse()\n",
    "print(\"Your Name in reverse order : \" + Nm[0] + Nm[1] + Nm[2])"
   ]
  },
  {
   "cell_type": "code",
   "execution_count": 4,
   "metadata": {},
   "outputs": [
    {
     "name": "stdout",
     "output_type": "stream",
     "text": [
      "Enter the Diameter of the sphere in meter : 0.12\n",
      "The volume of the sphere in Cubic Meter is as below : \n"
     ]
    },
    {
     "data": {
      "text/plain": [
       "0.0009047786842338602"
      ]
     },
     "execution_count": 4,
     "metadata": {},
     "output_type": "execute_result"
    }
   ],
   "source": [
    "# Task-1 : 4\n",
    "\n",
    "# Write a Python program to find the volume of a sphere with diameter 12 cm.\n",
    "\n",
    "def volume_sphere(dia_in_meter):\n",
    "     import math\n",
    "     PI = math.pi\n",
    "     radius_in_meter = dia_in_meter/2\n",
    "     r=radius_in_meter\n",
    "     C=pow(r,3)\n",
    "     V=(4/3)*(PI)*(C)\n",
    "     print(\"The volume of the sphere in Cubic Meter is as below : \")\n",
    "     return V\n",
    "     \n",
    "Diameter=input('Enter the Diameter of the sphere in meter : ')\n",
    "D = float(Diameter)\n",
    "volume_sphere(D)"
   ]
  },
  {
   "cell_type": "code",
   "execution_count": 5,
   "metadata": {},
   "outputs": [
    {
     "name": "stdout",
     "output_type": "stream",
     "text": [
      "Enter the comma separated sequence : 2,34,87,900,127,43,1006,46,96\n",
      "2,34,87,900,127,43,1006,46,96\n",
      "The List : ['2', '34', '87', '900', '127', '43', '1006', '46', '96']\n"
     ]
    }
   ],
   "source": [
    "# Task-2 : 1\n",
    "\n",
    "# Write a program which accepts a sequence of comma-separated numbers from console and\n",
    "# generate a list.\n",
    "\n",
    "Sequence = []\n",
    "Sequence = input('Enter the comma separated sequence : ')\n",
    "S = Sequence\n",
    "print(S)\n",
    "L = S.split(',')\n",
    "print(\"The List : \" + str(L))"
   ]
  },
  {
   "cell_type": "code",
   "execution_count": 6,
   "metadata": {},
   "outputs": [
    {
     "name": "stdout",
     "output_type": "stream",
     "text": [
      "\n",
      "\n",
      "* \n",
      "\n",
      "* * \n",
      "\n",
      "* * * \n",
      "\n",
      "* * * * \n",
      "\n",
      "* * * * * \n",
      "\n",
      "* * * * \n",
      "\n",
      "* * * \n",
      "\n",
      "* * \n",
      "\n",
      "* \n",
      "\n",
      "\n",
      "\n"
     ]
    }
   ],
   "source": [
    "# Task-2 : 2\n",
    "\n",
    "# Create the below pattern using nested for loop in Python.\n",
    "\n",
    "for num in range(6):\n",
    "    for val in range(num):\n",
    "        \n",
    "        print ('*', end = \" \")\n",
    "    \n",
    "    print(\"\\n\")  # new line after each row to display pattern correctly\n",
    "L = list(range(5))\n",
    "L.reverse()\n",
    "for num2 in L:\n",
    "    for val2 in range(num2):\n",
    "        print ('*', end = \" \")\n",
    "    print(\"\\n\")  # new line after each row to display pattern correctly"
   ]
  },
  {
   "cell_type": "code",
   "execution_count": 7,
   "metadata": {},
   "outputs": [
    {
     "name": "stdout",
     "output_type": "stream",
     "text": [
      "Enter the input word : AcadGild\n",
      "The output word : dliGdacA\n"
     ]
    }
   ],
   "source": [
    "# Task-2 : 3\n",
    "\n",
    "# Write a Python program to reverse a word after accepting the input from the user.\n",
    "\n",
    "InputWord = []\n",
    "InputWord = input('Enter the input word : ')\n",
    "print(\"The output word : \" + InputWord[::-1])"
   ]
  },
  {
   "cell_type": "code",
   "execution_count": 8,
   "metadata": {},
   "outputs": [
    {
     "name": "stdout",
     "output_type": "stream",
     "text": [
      "WE, THE PEOPLE OF INDIA,\n",
      "      having solemnly resolved to constitute India into a SOVEREIGN, !\n",
      "             SOCIALIST, SECULAR, DEMOCRATIC REPUBLIC\n",
      "\t      and to secure to all its citizens\n"
     ]
    }
   ],
   "source": [
    "# Task-2 : 4\n",
    "\n",
    "# Write a Python Program to print the given string in the format specified in the sample output.\n",
    "# WE, THE PEOPLE OF INDIA, having solemnly resolved to constitute India into a\n",
    "# SOVEREIGN, SOCIALIST, SECULAR, DEMOCRATIC REPUBLIC and to secure to all\n",
    "# its citizens\n",
    "\n",
    "print(\"WE, THE PEOPLE OF INDIA,\")\n",
    "print('      having solemnly resolved to constitute India into a SOVEREIGN, !')\n",
    "print('\\t     SOCIALIST, SECULAR, DEMOCRATIC REPUBLIC'.expandtabs())\n",
    "print('\\t      and to secure to all its citizens')"
   ]
  }
 ],
 "metadata": {
  "kernelspec": {
   "display_name": "Python 3",
   "language": "python",
   "name": "python3"
  },
  "language_info": {
   "codemirror_mode": {
    "name": "ipython",
    "version": 3
   },
   "file_extension": ".py",
   "mimetype": "text/x-python",
   "name": "python",
   "nbconvert_exporter": "python",
   "pygments_lexer": "ipython3",
   "version": "3.7.0"
  }
 },
 "nbformat": 4,
 "nbformat_minor": 2
}
